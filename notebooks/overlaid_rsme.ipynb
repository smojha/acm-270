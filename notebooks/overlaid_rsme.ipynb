{
  "cells": [
    {
      "cell_type": "code",
      "execution_count": null,
      "metadata": {
        "colab": {
          "base_uri": "https://localhost:8080/"
        },
        "id": "QLFmPGCBi7LX",
        "outputId": "8ed29609-3bce-453e-b5de-589cbe6b080b"
      },
      "outputs": [],
      "source": [
        "!pip install torchdiffeq systems"
      ]
    },
    {
      "cell_type": "code",
      "execution_count": null,
      "metadata": {},
      "outputs": [],
      "source": [
        "import torch\n",
        "import torch.nn as nn\n",
        "import torch.optim as optim\n",
        "import numpy as np\n",
        "import matplotlib.pyplot as plt\n",
        "import sys\n",
        "import os\n",
        "from torchdiffeq import odeint\n",
        "from scipy.integrate import solve_ivp\n",
        "from sklearn.preprocessing import StandardScaler\n",
        "\n",
        "project_root = os.path.abspath(os.path.join(os.getcwd(), '..', 'src'))\n",
        "if project_root not in sys.path:\n",
        "    sys.path.insert(0, project_root)\n",
        "\n",
        "from systems.lotka_volterra import simulate as simulate_lv\n",
        "from systems.lorenz import simulate as simulate_lorenz\n",
        "from utils.compute_rsme import compute_rmse_over_time"
      ]
    },
    {
      "cell_type": "code",
      "execution_count": 8,
      "metadata": {},
      "outputs": [],
      "source": [
        "# Open the RSME data files\n",
        "def load_rmse_data(file_path):\n",
        "    data = np.load(file_path, allow_pickle=True)\n",
        "    rmse = data['rmse']\n",
        "    t = data['t']\n",
        "    label = data['label'].item()\n",
        "    return t, rmse, label"
      ]
    },
    {
      "cell_type": "code",
      "execution_count": null,
      "metadata": {},
      "outputs": [],
      "source": [
        "SYSTEM = \"lorenz\"\n",
        "SYSTEM = \"lotka_volterra\"\n",
        "pretty = {\n",
        "    \"lorenz\": \"Lorenz\",\n",
        "    \"lotka_volterra\": \"Lotka-Volterra\"\n",
        "}\n",
        "\n",
        "t_neural, rmse_neural, label_neural = load_rmse_data(f\"data/{SYSTEM}_neural_rmse.npz\")\n",
        "\n",
        "t_edmd, rmse_edmd, label_edmd = load_rmse_data(f\"data/{SYSTEM}_edmd_rmse.npz\")\n",
        "\n",
        "# Plot both\n",
        "plt.figure(figsize=(8, 4))\n",
        "plt.plot(t_edmd, rmse_edmd, label=\"EDMD\", color='green')\n",
        "plt.plot(t_neural, rmse_neural, label=label_neural, color='crimson')\n",
        "plt.xlabel(\"Time\")\n",
        "plt.ylabel(\"RMSE\")\n",
        "plt.title(f\"RMSE Over Time Across All {pretty[SYSTEM]} Trajectories\")\n",
        "plt.grid(True)\n",
        "plt.legend()\n",
        "plt.tight_layout()\n",
        "plt.show()\n"
      ]
    }
  ],
  "metadata": {
    "accelerator": "GPU",
    "colab": {
      "gpuType": "T4",
      "provenance": []
    },
    "kernelspec": {
      "display_name": "Python 3",
      "name": "python3"
    },
    "language_info": {
      "codemirror_mode": {
        "name": "ipython",
        "version": 3
      },
      "file_extension": ".py",
      "mimetype": "text/x-python",
      "name": "python",
      "nbconvert_exporter": "python",
      "pygments_lexer": "ipython3",
      "version": "3.10.13"
    }
  },
  "nbformat": 4,
  "nbformat_minor": 0
}
